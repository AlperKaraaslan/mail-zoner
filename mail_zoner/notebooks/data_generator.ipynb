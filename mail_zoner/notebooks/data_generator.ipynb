{
 "cells": [
  {
   "cell_type": "markdown",
   "metadata": {},
   "source": [
    "# Append SYS path"
   ]
  },
  {
   "cell_type": "code",
   "execution_count": 9,
   "metadata": {},
   "outputs": [],
   "source": [
    "import sys\n",
    "import pathlib\n",
    "sys.path.append(r\"c:\\Users\\alper.karaaslan\\Documents\\VisualStudioRepos\\ml-classification-preprocessing-email-zone\")\n",
    "\n",
    "HOMEDIR = pathlib.Path.cwd().parent.parent"
   ]
  },
  {
   "cell_type": "code",
   "execution_count": 10,
   "metadata": {},
   "outputs": [],
   "source": [
    "data_path_train = HOMEDIR / pathlib.Path('data_webis') / 'features' / 'train'\n",
    "data_path_test = HOMEDIR / pathlib.Path('data_webis') / 'features' / 'test'\n",
    "data_path_val = HOMEDIR / pathlib.Path('data_webis') / 'features' / 'val'"
   ]
  },
  {
   "cell_type": "code",
   "execution_count": 11,
   "metadata": {},
   "outputs": [],
   "source": [
    "BATCHSIZE=16\n",
    "SHUFFLE=True"
   ]
  },
  {
   "cell_type": "code",
   "execution_count": 12,
   "metadata": {},
   "outputs": [],
   "source": [
    "from mail_zoner.functions.data_generator import DatasetGenerator\n",
    "\n",
    "tf_datagen_train = DatasetGenerator(data_path=data_path_train,batch_size=BATCHSIZE,shuffle=SHUFFLE)\n",
    "tf_datagen_test = DatasetGenerator(data_path=data_path_test,batch_size=BATCHSIZE,shuffle=SHUFFLE)\n",
    "tf_datagen_val = DatasetGenerator(data_path=data_path_val,batch_size=BATCHSIZE,shuffle=SHUFFLE)"
   ]
  },
  {
   "cell_type": "code",
   "execution_count": 13,
   "metadata": {},
   "outputs": [],
   "source": [
    "features,labels = tf_datagen_train[0] #take first batch"
   ]
  },
  {
   "cell_type": "code",
   "execution_count": 14,
   "metadata": {},
   "outputs": [
    {
     "data": {
      "text/plain": [
       "array([[[ 8.88289139e-02,  8.37034881e-02,  3.64622250e-02, ...,\n",
       "         -4.98715490e-02, -1.59002803e-02, -9.33966488e-02],\n",
       "        [ 8.00714493e-02,  8.82533491e-02, -6.52282825e-03, ...,\n",
       "         -4.86841872e-02, -1.26735773e-02, -9.96855125e-02],\n",
       "        [ 7.41293803e-02,  8.82924423e-02,  1.89442132e-02, ...,\n",
       "         -3.40871252e-02, -6.76809531e-03, -7.82721490e-02],\n",
       "        ...,\n",
       "        [-1.00000000e+01, -1.00000000e+01, -1.00000000e+01, ...,\n",
       "         -1.00000000e+01, -1.00000000e+01, -1.00000000e+01],\n",
       "        [-1.00000000e+01, -1.00000000e+01, -1.00000000e+01, ...,\n",
       "         -1.00000000e+01, -1.00000000e+01, -1.00000000e+01],\n",
       "        [-1.00000000e+01, -1.00000000e+01, -1.00000000e+01, ...,\n",
       "         -1.00000000e+01, -1.00000000e+01, -1.00000000e+01]],\n",
       "\n",
       "       [[-1.39854271e-02,  5.80624640e-02,  3.43892053e-02, ...,\n",
       "         -1.47671372e-01, -2.09530234e-01, -7.21338034e-01],\n",
       "        [ 7.13304356e-02,  9.17729661e-02, -1.83026846e-02, ...,\n",
       "         -3.68301451e-01,  2.21245125e-01, -3.38017046e-01],\n",
       "        [-1.90773029e-02,  1.16355166e-01,  5.45252822e-02, ...,\n",
       "         -3.93132597e-01, -3.45161021e-01, -9.24523711e-01],\n",
       "        ...,\n",
       "        [-1.00000000e+01, -1.00000000e+01, -1.00000000e+01, ...,\n",
       "         -1.00000000e+01, -1.00000000e+01, -1.00000000e+01],\n",
       "        [-1.00000000e+01, -1.00000000e+01, -1.00000000e+01, ...,\n",
       "         -1.00000000e+01, -1.00000000e+01, -1.00000000e+01],\n",
       "        [-1.00000000e+01, -1.00000000e+01, -1.00000000e+01, ...,\n",
       "         -1.00000000e+01, -1.00000000e+01, -1.00000000e+01]]],\n",
       "      dtype=float32)"
      ]
     },
     "execution_count": 14,
     "metadata": {},
     "output_type": "execute_result"
    }
   ],
   "source": [
    "features"
   ]
  },
  {
   "cell_type": "markdown",
   "metadata": {},
   "source": [
    "#### The first index denotes the batch size"
   ]
  },
  {
   "cell_type": "code",
   "execution_count": 15,
   "metadata": {},
   "outputs": [
    {
     "data": {
      "text/plain": [
       "(2, 360, 3072)"
      ]
     },
     "execution_count": 15,
     "metadata": {},
     "output_type": "execute_result"
    }
   ],
   "source": [
    "features.shape"
   ]
  },
  {
   "cell_type": "code",
   "execution_count": 16,
   "metadata": {},
   "outputs": [
    {
     "data": {
      "text/plain": [
       "array([[[  0.,   0.,   0., ...,   0.,   0.,   0.],\n",
       "        [  0.,   0.,   0., ...,   0.,   0.,   0.],\n",
       "        [  0.,   0.,   0., ...,   0.,   0.,   0.],\n",
       "        ...,\n",
       "        [-10., -10., -10., ..., -10., -10., -10.],\n",
       "        [-10., -10., -10., ..., -10., -10., -10.],\n",
       "        [-10., -10., -10., ..., -10., -10., -10.]],\n",
       "\n",
       "       [[  0.,   0.,   0., ...,   0.,   1.,   0.],\n",
       "        [  0.,   0.,   0., ...,   0.,   0.,   0.],\n",
       "        [  0.,   0.,   0., ...,   0.,   0.,   0.],\n",
       "        ...,\n",
       "        [-10., -10., -10., ..., -10., -10., -10.],\n",
       "        [-10., -10., -10., ..., -10., -10., -10.],\n",
       "        [-10., -10., -10., ..., -10., -10., -10.]]], dtype=float32)"
      ]
     },
     "execution_count": 16,
     "metadata": {},
     "output_type": "execute_result"
    }
   ],
   "source": [
    "labels"
   ]
  },
  {
   "cell_type": "code",
   "execution_count": 17,
   "metadata": {},
   "outputs": [
    {
     "data": {
      "text/plain": [
       "(2, 360, 15)"
      ]
     },
     "execution_count": 17,
     "metadata": {},
     "output_type": "execute_result"
    }
   ],
   "source": [
    "labels.shape"
   ]
  },
  {
   "cell_type": "code",
   "execution_count": null,
   "metadata": {},
   "outputs": [],
   "source": []
  }
 ],
 "metadata": {
  "interpreter": {
   "hash": "255fc6da8029bef322b6bca02b59f88e093370c5ed0c5392c887dcd3df5b3dfc"
  },
  "kernelspec": {
   "display_name": "Python 3.8.10 64-bit ('ml-classification-preprocessing-email-zone-3e72BEgC-py3.8': poetry)",
   "language": "python",
   "name": "python3"
  },
  "language_info": {
   "codemirror_mode": {
    "name": "ipython",
    "version": 3
   },
   "file_extension": ".py",
   "mimetype": "text/x-python",
   "name": "python",
   "nbconvert_exporter": "python",
   "pygments_lexer": "ipython3",
   "version": "3.8.10"
  },
  "orig_nbformat": 4
 },
 "nbformat": 4,
 "nbformat_minor": 2
}
