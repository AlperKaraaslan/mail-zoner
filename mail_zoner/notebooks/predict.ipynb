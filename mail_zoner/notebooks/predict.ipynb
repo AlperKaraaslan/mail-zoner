{
 "cells": [
  {
   "cell_type": "markdown",
   "id": "976c5d48",
   "metadata": {},
   "source": [
    "# Append SYS path"
   ]
  },
  {
   "cell_type": "code",
   "execution_count": 1,
   "id": "d9fc31ae",
   "metadata": {},
   "outputs": [],
   "source": [
    "import sys\n",
    "import pathlib\n",
    "sys.path.append(r\"c:\\Users\\alper.karaaslan\\Documents\\VisualStudioRepos\\ml-classification-preprocessing-email-zone\")\n",
    "\n",
    "HOMEDIR = pathlib.Path.cwd().parent.parent"
   ]
  },
  {
   "cell_type": "markdown",
   "id": "e5f72ad8",
   "metadata": {},
   "source": [
    "# Import Libraries"
   ]
  },
  {
   "cell_type": "code",
   "execution_count": 2,
   "id": "ba75eca1",
   "metadata": {},
   "outputs": [],
   "source": [
    "import pathlib\n",
    "\n",
    "from mail_zoner.functions.model import segmenter\n",
    "from mail_zoner.functions.generate_features import encoder_xlmroberta\n",
    "from mail_zoner.functions.preprocessing_webis import Preprocess_webis\n",
    "from mail_zoner.functions.preprocessing_labelstudio import Preprocess_labelstudio\n",
    "from mail_zoner.functions.predict import Predictor"
   ]
  },
  {
   "cell_type": "markdown",
   "id": "b8909b18",
   "metadata": {},
   "source": [
    "# Initalize model and predictor"
   ]
  },
  {
   "cell_type": "code",
   "execution_count": 3,
   "id": "8be4fa8c",
   "metadata": {},
   "outputs": [
    {
     "name": "stderr",
     "output_type": "stream",
     "text": [
      "Some layers from the model checkpoint at jplu/tf-xlm-roberta-base were not used when initializing TFXLMRobertaModel: ['lm_head']\n",
      "- This IS expected if you are initializing TFXLMRobertaModel from the checkpoint of a model trained on another task or with another architecture (e.g. initializing a BertForSequenceClassification model from a BertForPreTraining model).\n",
      "- This IS NOT expected if you are initializing TFXLMRobertaModel from the checkpoint of a model that you expect to be exactly identical (initializing a BertForSequenceClassification model from a BertForSequenceClassification model).\n",
      "All the layers of TFXLMRobertaModel were initialized from the model checkpoint at jplu/tf-xlm-roberta-base.\n",
      "If your task is similar to the task the model of the checkpoint was trained on, you can already use TFXLMRobertaModel for predictions without further training.\n"
     ]
    },
    {
     "name": "stdout",
     "output_type": "stream",
     "text": [
      "----------\n",
      "Loading model weights\n",
      "----------\n",
      "\n",
      "----------\n",
      "Initializing tokenizer\n",
      "----------\n",
      "\n"
     ]
    }
   ],
   "source": [
    "# Load model weights\n",
    "modelweights_dir = pathlib.Path.cwd().parent.parent / 'data_webis' / 'modelcheckpoint'\n",
    "\n",
    "# Call Predictor\n",
    "Predicter = Predictor(weights_dir=modelweights_dir,model=segmenter(),encoder=encoder_xlmroberta)"
   ]
  },
  {
   "cell_type": "markdown",
   "id": "5d88fe62",
   "metadata": {},
   "source": [
    "# Load Sample Data (WEBIS)"
   ]
  },
  {
   "cell_type": "code",
   "execution_count": 7,
   "id": "ed847702",
   "metadata": {},
   "outputs": [],
   "source": [
    "# INPUTS\n",
    "data_dir_train = pathlib.Path.cwd().parent.parent / r\"data_webis/annotations-final-validation.jsonl\"\n",
    "\n",
    "reduce_dataset=False\n",
    "N_reduced_emails=10\n",
    "remove_long_mails = True\n",
    "test_split=None\n",
    "\n",
    "# FUNCTIONS\n",
    "preprocessor_webis = Preprocess_webis(\n",
    "    jsonldir=data_dir_train,reduced=reduce_dataset,N_reduced=N_reduced_emails,remove_long_mails=remove_long_mails,test_split=test_split)\n",
    "\n",
    "dataset_train,_ = preprocessor_webis.reorder_data()\n",
    "id_nr = 1\n",
    "id_ = list(dataset_train.keys())[id_nr]\n",
    "text = dataset_train[id_]['text']\n",
    "text_str = \"\\n\".join(text)\n",
    "label = dataset_train[id_]['label']"
   ]
  },
  {
   "cell_type": "markdown",
   "id": "14d1036a",
   "metadata": {},
   "source": [
    "# Text input to be predicted"
   ]
  },
  {
   "cell_type": "code",
   "execution_count": 8,
   "id": "46bbdee5",
   "metadata": {},
   "outputs": [
    {
     "name": "stdout",
     "output_type": "stream",
     "text": [
      "> o che per far muovere un robot serve il PID: chi si immaginava ci volesse \n",
      "> tutto 'sto casino per far girare due ruote ?\n",
      "Serve molto di più, mai sentito parlare dei sensori mistici e del sismoboock \n",
      "? :-)\n",
      "Ciao\n",
      "Marco d'Ambrosio\n"
     ]
    }
   ],
   "source": [
    "print(text_str)"
   ]
  },
  {
   "cell_type": "markdown",
   "id": "c926213a",
   "metadata": {},
   "source": [
    "# Predict"
   ]
  },
  {
   "cell_type": "code",
   "execution_count": 9,
   "id": "fafff5ff",
   "metadata": {},
   "outputs": [
    {
     "name": "stdout",
     "output_type": "stream",
     "text": [
      "1/1 [==============================] - 0s 450ms/step\n"
     ]
    },
    {
     "data": {
      "text/html": [
       "<div>\n",
       "<style scoped>\n",
       "    .dataframe tbody tr th:only-of-type {\n",
       "        vertical-align: middle;\n",
       "    }\n",
       "\n",
       "    .dataframe tbody tr th {\n",
       "        vertical-align: top;\n",
       "    }\n",
       "\n",
       "    .dataframe thead th {\n",
       "        text-align: right;\n",
       "    }\n",
       "</style>\n",
       "<table border=\"1\" class=\"dataframe\">\n",
       "  <thead>\n",
       "    <tr style=\"text-align: right;\">\n",
       "      <th></th>\n",
       "      <th>text</th>\n",
       "      <th>predicitons</th>\n",
       "      <th>ground_truth</th>\n",
       "    </tr>\n",
       "  </thead>\n",
       "  <tbody>\n",
       "    <tr>\n",
       "      <th>0</th>\n",
       "      <td>&gt; o che per far muovere un robot serve il PID:...</td>\n",
       "      <td>quotation</td>\n",
       "      <td>quotation</td>\n",
       "    </tr>\n",
       "    <tr>\n",
       "      <th>1</th>\n",
       "      <td>&gt; tutto 'sto casino per far girare due ruote ?</td>\n",
       "      <td>quotation</td>\n",
       "      <td>quotation</td>\n",
       "    </tr>\n",
       "    <tr>\n",
       "      <th>2</th>\n",
       "      <td>Serve molto di più, mai sentito parlare dei se...</td>\n",
       "      <td>paragraph</td>\n",
       "      <td>paragraph</td>\n",
       "    </tr>\n",
       "    <tr>\n",
       "      <th>3</th>\n",
       "      <td>? :-)</td>\n",
       "      <td>paragraph</td>\n",
       "      <td>paragraph</td>\n",
       "    </tr>\n",
       "    <tr>\n",
       "      <th>4</th>\n",
       "      <td>Ciao</td>\n",
       "      <td>closing</td>\n",
       "      <td>closing</td>\n",
       "    </tr>\n",
       "    <tr>\n",
       "      <th>5</th>\n",
       "      <td>Marco d'Ambrosio</td>\n",
       "      <td>closing</td>\n",
       "      <td>closing</td>\n",
       "    </tr>\n",
       "  </tbody>\n",
       "</table>\n",
       "</div>"
      ],
      "text/plain": [
       "                                                text predicitons ground_truth\n",
       "0  > o che per far muovere un robot serve il PID:...   quotation    quotation\n",
       "1     > tutto 'sto casino per far girare due ruote ?   quotation    quotation\n",
       "2  Serve molto di più, mai sentito parlare dei se...   paragraph    paragraph\n",
       "3                                              ? :-)   paragraph    paragraph\n",
       "4                                               Ciao     closing      closing\n",
       "5                                   Marco d'Ambrosio     closing      closing"
      ]
     },
     "execution_count": 9,
     "metadata": {},
     "output_type": "execute_result"
    }
   ],
   "source": [
    "pred_prob,pred,df_pred = Predicter.predict(text_str)\n",
    "df_pred['ground_truth'] = label #add ground truth\n",
    "\n",
    "df_pred"
   ]
  },
  {
   "cell_type": "code",
   "execution_count": null,
   "id": "1842ac4e",
   "metadata": {},
   "outputs": [],
   "source": []
  }
 ],
 "metadata": {
  "kernelspec": {
   "display_name": "Python 3",
   "language": "python",
   "name": "python3"
  },
  "language_info": {
   "codemirror_mode": {
    "name": "ipython",
    "version": 3
   },
   "file_extension": ".py",
   "mimetype": "text/x-python",
   "name": "python",
   "nbconvert_exporter": "python",
   "pygments_lexer": "ipython3",
   "version": "3.8.10"
  }
 },
 "nbformat": 4,
 "nbformat_minor": 5
}
