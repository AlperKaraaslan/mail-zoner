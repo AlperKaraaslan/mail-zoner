{
 "cells": [
  {
   "cell_type": "markdown",
   "metadata": {},
   "source": [
    "# Append SYS path"
   ]
  },
  {
   "cell_type": "code",
   "execution_count": 1,
   "metadata": {},
   "outputs": [],
   "source": [
    "import sys\n",
    "import pathlib\n",
    "sys.path.append(r\"c:\\Users\\alper.karaaslan\\Documents\\VisualStudioRepos\\ml-classification-preprocessing-email-zone\")\n",
    "\n",
    "HOMEDIR = pathlib.Path.cwd().parent.parent"
   ]
  },
  {
   "cell_type": "markdown",
   "metadata": {},
   "source": [
    "# Load Labelstudio data"
   ]
  },
  {
   "cell_type": "markdown",
   "metadata": {},
   "source": [
    "#### Data directory"
   ]
  },
  {
   "cell_type": "code",
   "execution_count": 2,
   "metadata": {},
   "outputs": [],
   "source": [
    "data_dir=r\"C:\\Users\\alper.karaaslan\\Desktop\\project-1-at-2021-08-26-15-04-09fdff9c.json\""
   ]
  },
  {
   "cell_type": "markdown",
   "metadata": {},
   "source": [
    "#### Parameters"
   ]
  },
  {
   "cell_type": "code",
   "execution_count": 3,
   "metadata": {},
   "outputs": [],
   "source": [
    "reduce_data=False\n",
    "N_reduced=15\n",
    "test_split=0.2\n",
    "val_split=0.2"
   ]
  },
  {
   "cell_type": "markdown",
   "metadata": {},
   "source": [
    "#### Reorder dataset"
   ]
  },
  {
   "cell_type": "code",
   "execution_count": 4,
   "metadata": {},
   "outputs": [
    {
     "name": "stderr",
     "output_type": "stream",
     "text": [
      "c:\\Users\\alper.karaaslan\\Documents\\VisualStudioRepos\\ml-classification-preprocessing-email-zone\\ml_classification_preprocessing_email_zone\\functions\\preprocessing_labelstudio.py:103: UserWarning: By searching excerpt we found multiple loacations. You may check ID: 548 if it was labeled correctly.\n",
      "  warnings.warn(f\"By searching excerpt we found multiple loacations. You may check ID: {identifier} if it was labeled correctly.\")\n",
      "c:\\Users\\alper.karaaslan\\Documents\\VisualStudioRepos\\ml-classification-preprocessing-email-zone\\ml_classification_preprocessing_email_zone\\functions\\preprocessing_labelstudio.py:103: UserWarning: By searching excerpt we found multiple loacations. You may check ID: 538 if it was labeled correctly.\n",
      "  warnings.warn(f\"By searching excerpt we found multiple loacations. You may check ID: {identifier} if it was labeled correctly.\")\n",
      "c:\\Users\\alper.karaaslan\\Documents\\VisualStudioRepos\\ml-classification-preprocessing-email-zone\\ml_classification_preprocessing_email_zone\\functions\\preprocessing_labelstudio.py:103: UserWarning: By searching excerpt we found multiple loacations. You may check ID: 534 if it was labeled correctly.\n",
      "  warnings.warn(f\"By searching excerpt we found multiple loacations. You may check ID: {identifier} if it was labeled correctly.\")\n",
      "c:\\Users\\alper.karaaslan\\Documents\\VisualStudioRepos\\ml-classification-preprocessing-email-zone\\ml_classification_preprocessing_email_zone\\functions\\preprocessing_labelstudio.py:103: UserWarning: By searching excerpt we found multiple loacations. You may check ID: 531 if it was labeled correctly.\n",
      "  warnings.warn(f\"By searching excerpt we found multiple loacations. You may check ID: {identifier} if it was labeled correctly.\")\n",
      "c:\\Users\\alper.karaaslan\\Documents\\VisualStudioRepos\\ml-classification-preprocessing-email-zone\\ml_classification_preprocessing_email_zone\\functions\\preprocessing_labelstudio.py:103: UserWarning: By searching excerpt we found multiple loacations. You may check ID: 527 if it was labeled correctly.\n",
      "  warnings.warn(f\"By searching excerpt we found multiple loacations. You may check ID: {identifier} if it was labeled correctly.\")\n",
      "c:\\Users\\alper.karaaslan\\Documents\\VisualStudioRepos\\ml-classification-preprocessing-email-zone\\ml_classification_preprocessing_email_zone\\functions\\preprocessing_labelstudio.py:103: UserWarning: By searching excerpt we found multiple loacations. You may check ID: 503 if it was labeled correctly.\n",
      "  warnings.warn(f\"By searching excerpt we found multiple loacations. You may check ID: {identifier} if it was labeled correctly.\")\n"
     ]
    }
   ],
   "source": [
    "from mail_zoner.functions.preprocessing_labelstudio import Preprocess_labelstudio\n",
    "\n",
    "preprocessor_mailt = Preprocess_labelstudio(jsondir=data_dir,reduced=reduce_data,N_reduced=N_reduced)\n",
    "dataset_train,dataset_val,dataset_test = preprocessor_mailt.apply(test_split=test_split,val_split=val_split)"
   ]
  },
  {
   "cell_type": "markdown",
   "metadata": {},
   "source": [
    "#### Print some examples of dataset"
   ]
  },
  {
   "cell_type": "code",
   "execution_count": 5,
   "metadata": {},
   "outputs": [],
   "source": [
    "dataset_df = preprocessor_mailt.show_tabular()"
   ]
  },
  {
   "cell_type": "code",
   "execution_count": 6,
   "metadata": {},
   "outputs": [
    {
     "data": {
      "text/html": [
       "<div>\n",
       "<style scoped>\n",
       "    .dataframe tbody tr th:only-of-type {\n",
       "        vertical-align: middle;\n",
       "    }\n",
       "\n",
       "    .dataframe tbody tr th {\n",
       "        vertical-align: top;\n",
       "    }\n",
       "\n",
       "    .dataframe thead th {\n",
       "        text-align: right;\n",
       "    }\n",
       "</style>\n",
       "<table border=\"1\" class=\"dataframe\">\n",
       "  <thead>\n",
       "    <tr style=\"text-align: right;\">\n",
       "      <th></th>\n",
       "      <th>id</th>\n",
       "      <th>text</th>\n",
       "      <th>label</th>\n",
       "    </tr>\n",
       "  </thead>\n",
       "  <tbody>\n",
       "    <tr>\n",
       "      <th>0</th>\n",
       "      <td>492</td>\n",
       "      <td>Sehr geehrte Dame</td>\n",
       "      <td>Rest</td>\n",
       "    </tr>\n",
       "    <tr>\n",
       "      <th>1</th>\n",
       "      <td>492</td>\n",
       "      <td>Sehr geehrter Herr</td>\n",
       "      <td>Rest</td>\n",
       "    </tr>\n",
       "    <tr>\n",
       "      <th>2</th>\n",
       "      <td>492</td>\n",
       "      <td></td>\n",
       "      <td>&lt;empty&gt;</td>\n",
       "    </tr>\n",
       "    <tr>\n",
       "      <th>3</th>\n",
       "      <td>492</td>\n",
       "      <td>Bitte um Erstellung eines VNA</td>\n",
       "      <td>Body</td>\n",
       "    </tr>\n",
       "    <tr>\n",
       "      <th>4</th>\n",
       "      <td>492</td>\n",
       "      <td></td>\n",
       "      <td>Body</td>\n",
       "    </tr>\n",
       "    <tr>\n",
       "      <th>...</th>\n",
       "      <td>...</td>\n",
       "      <td>...</td>\n",
       "      <td>...</td>\n",
       "    </tr>\n",
       "    <tr>\n",
       "      <th>2381</th>\n",
       "      <td>480</td>\n",
       "      <td></td>\n",
       "      <td>Rest</td>\n",
       "    </tr>\n",
       "    <tr>\n",
       "      <th>2382</th>\n",
       "      <td>480</td>\n",
       "      <td>Désormais, nous vous remettons vos documents u...</td>\n",
       "      <td>Rest</td>\n",
       "    </tr>\n",
       "    <tr>\n",
       "      <th>2383</th>\n",
       "      <td>480</td>\n",
       "      <td>Si vous souhaitez les recevoir également sous ...</td>\n",
       "      <td>Rest</td>\n",
       "    </tr>\n",
       "    <tr>\n",
       "      <th>2384</th>\n",
       "      <td>480</td>\n",
       "      <td>******************* PLEASE NOTE **************...</td>\n",
       "      <td>Rest</td>\n",
       "    </tr>\n",
       "    <tr>\n",
       "      <th>2385</th>\n",
       "      <td>480</td>\n",
       "      <td></td>\n",
       "      <td>&lt;empty&gt;</td>\n",
       "    </tr>\n",
       "  </tbody>\n",
       "</table>\n",
       "<p>2386 rows × 3 columns</p>\n",
       "</div>"
      ],
      "text/plain": [
       "       id                                               text    label\n",
       "0     492                                  Sehr geehrte Dame     Rest\n",
       "1     492                                 Sehr geehrter Herr     Rest\n",
       "2     492                                                     <empty>\n",
       "3     492                      Bitte um Erstellung eines VNA     Body\n",
       "4     492                                                        Body\n",
       "...   ...                                                ...      ...\n",
       "2381  480                                                        Rest\n",
       "2382  480  Désormais, nous vous remettons vos documents u...     Rest\n",
       "2383  480  Si vous souhaitez les recevoir également sous ...     Rest\n",
       "2384  480  ******************* PLEASE NOTE **************...     Rest\n",
       "2385  480                                                     <empty>\n",
       "\n",
       "[2386 rows x 3 columns]"
      ]
     },
     "execution_count": 6,
     "metadata": {},
     "output_type": "execute_result"
    }
   ],
   "source": [
    "dataset_df"
   ]
  },
  {
   "cell_type": "code",
   "execution_count": null,
   "metadata": {},
   "outputs": [],
   "source": []
  }
 ],
 "metadata": {
  "interpreter": {
   "hash": "255fc6da8029bef322b6bca02b59f88e093370c5ed0c5392c887dcd3df5b3dfc"
  },
  "kernelspec": {
   "display_name": "Python 3.8.10 64-bit ('ml-classification-preprocessing-email-zone-3e72BEgC-py3.8': poetry)",
   "language": "python",
   "name": "python3"
  },
  "language_info": {
   "codemirror_mode": {
    "name": "ipython",
    "version": 3
   },
   "file_extension": ".py",
   "mimetype": "text/x-python",
   "name": "python",
   "nbconvert_exporter": "python",
   "pygments_lexer": "ipython3",
   "version": "3.8.10"
  },
  "orig_nbformat": 4
 },
 "nbformat": 4,
 "nbformat_minor": 2
}
