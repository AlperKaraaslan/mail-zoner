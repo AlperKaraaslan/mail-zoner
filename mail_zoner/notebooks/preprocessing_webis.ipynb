{
 "cells": [
  {
   "cell_type": "markdown",
   "metadata": {},
   "source": [
    "# Append SYS path"
   ]
  },
  {
   "cell_type": "code",
   "execution_count": 1,
   "metadata": {},
   "outputs": [],
   "source": [
    "import sys\n",
    "import pathlib\n",
    "sys.path.append(r\"c:\\Users\\alper.karaaslan\\Documents\\VisualStudioRepos\\ml-classification-preprocessing-email-zone\")\n",
    "\n",
    "HOMEDIR = pathlib.Path.cwd().parent.parent"
   ]
  },
  {
   "cell_type": "markdown",
   "metadata": {},
   "source": [
    "# Load Labelstudio data"
   ]
  },
  {
   "cell_type": "markdown",
   "metadata": {},
   "source": [
    "#### Data directory"
   ]
  },
  {
   "cell_type": "code",
   "execution_count": 2,
   "metadata": {},
   "outputs": [],
   "source": [
    "data_dir_train = HOMEDIR / 'data_webis' / 'annotations-final-train.jsonl'\n",
    "data_dir_val = HOMEDIR / 'data_webis' / 'annotations-final-validation.jsonl'"
   ]
  },
  {
   "cell_type": "markdown",
   "metadata": {},
   "source": [
    "#### Parameters"
   ]
  },
  {
   "cell_type": "code",
   "execution_count": 6,
   "metadata": {},
   "outputs": [],
   "source": [
    "reduce_dataset=True\n",
    "N_reduced_emails=5\n",
    "remove_long_mails = True\n",
    "test_split=0.2"
   ]
  },
  {
   "cell_type": "markdown",
   "metadata": {},
   "source": [
    "#### Reorder dataset"
   ]
  },
  {
   "cell_type": "code",
   "execution_count": 7,
   "metadata": {},
   "outputs": [],
   "source": [
    "from mail_zoner.functions.preprocessing_webis import Preprocess_webis\n",
    "\n",
    "preprocessor_webis_train = Preprocess_webis(jsonldir=data_dir_train,reduced=reduce_dataset,N_reduced=N_reduced_emails,remove_long_mails=remove_long_mails,test_split=test_split)\n",
    "dataset_train_webis,dataset_test_webis = preprocessor_webis_train.reorder_data()\n",
    "\n",
    "preprocessor_webis_val = Preprocess_webis(jsonldir=data_dir_val,reduced=reduce_dataset,N_reduced=N_reduced_emails,remove_long_mails=remove_long_mails,test_split=None)\n",
    "dataset_val_webis,_ = preprocessor_webis_val.reorder_data()"
   ]
  },
  {
   "cell_type": "markdown",
   "metadata": {},
   "source": [
    "#### Print some examples of dataset"
   ]
  },
  {
   "cell_type": "code",
   "execution_count": 18,
   "metadata": {},
   "outputs": [
    {
     "data": {
      "text/plain": [
       "['salutation',\n",
       " 'paragraph',\n",
       " 'paragraph',\n",
       " 'paragraph',\n",
       " 'paragraph',\n",
       " 'paragraph',\n",
       " 'paragraph',\n",
       " 'paragraph',\n",
       " 'paragraph',\n",
       " 'paragraph',\n",
       " 'paragraph',\n",
       " 'paragraph',\n",
       " 'paragraph',\n",
       " 'closing',\n",
       " 'closing',\n",
       " 'visual_separator',\n",
       " 'mua_signature',\n",
       " 'mua_signature',\n",
       " 'mua_signature']"
      ]
     },
     "execution_count": 18,
     "metadata": {},
     "output_type": "execute_result"
    }
   ],
   "source": [
    "key_id = 143780 #take one of: dataset_train_webis.keys()\n",
    "dataset_train_webis[key_id]['label']\n"
   ]
  },
  {
   "cell_type": "code",
   "execution_count": 17,
   "metadata": {},
   "outputs": [
    {
     "data": {
      "text/plain": [
       "['Sindi,',\n",
       " 'The \"S\" in ttyS4 was capitalized, I just forgot to capitalize it in my',\n",
       " 'post.',\n",
       " \"I may well have a 'Windows' modem.  I'm not really in a position to make\",\n",
       " 'hardware changes, or modem-driver changes, but I do appreciate the offer',\n",
       " '(if indeed you were offering some hardware).  This may be a hopeless',\n",
       " 'case. I really just wanted to know if there was something simple I could',\n",
       " 'type in at the terminal.  And indeed, I have learned a lot.',\n",
       " 'The modem is a 3COM U.S.Robotics 56K fax PCI modem model 5610.',\n",
       " \"I'll confess that I don't know why it's in COM5.  I thought maybe Windows\",\n",
       " 'put it there.  I did try moving it to a different PCI slot, which I',\n",
       " 'thought would change its COM port, but it still shows up in COM5.  Do you',\n",
       " 'know of a way to change this?',\n",
       " 'Regards,',\n",
       " 'Dan',\n",
       " '________________________________________________________________',\n",
       " 'Get your name as your email address.',\n",
       " 'Includes spam protection, 1GB storage, no ads and more',\n",
       " 'Only $1.99/ month - visit http://www.mysite.com/name today!']"
      ]
     },
     "execution_count": 17,
     "metadata": {},
     "output_type": "execute_result"
    }
   ],
   "source": [
    "dataset_train_webis[key_id]['text']"
   ]
  },
  {
   "cell_type": "markdown",
   "metadata": {},
   "source": [
    "#### Print some examples of dataset"
   ]
  },
  {
   "cell_type": "code",
   "execution_count": 9,
   "metadata": {},
   "outputs": [],
   "source": [
    "from mail_zoner.functions.preprocessing_webis import email_length,label_occurrences\n",
    "\n",
    "dataset_df = preprocessor_webis_train.make_tabular()\n",
    "\n",
    "email_lengths = email_length(dataset_df['id'])\n",
    "\n",
    "labeloccurences = label_occurrences(dataset_df)"
   ]
  },
  {
   "cell_type": "code",
   "execution_count": 10,
   "metadata": {},
   "outputs": [
    {
     "data": {
      "text/html": [
       "<div>\n",
       "<style scoped>\n",
       "    .dataframe tbody tr th:only-of-type {\n",
       "        vertical-align: middle;\n",
       "    }\n",
       "\n",
       "    .dataframe tbody tr th {\n",
       "        vertical-align: top;\n",
       "    }\n",
       "\n",
       "    .dataframe thead th {\n",
       "        text-align: right;\n",
       "    }\n",
       "</style>\n",
       "<table border=\"1\" class=\"dataframe\">\n",
       "  <thead>\n",
       "    <tr style=\"text-align: right;\">\n",
       "      <th></th>\n",
       "      <th>id</th>\n",
       "      <th>text</th>\n",
       "      <th>label</th>\n",
       "    </tr>\n",
       "  </thead>\n",
       "  <tbody>\n",
       "    <tr>\n",
       "      <th>0</th>\n",
       "      <td>143359</td>\n",
       "      <td>Nice news. Two comments:</td>\n",
       "      <td>paragraph</td>\n",
       "    </tr>\n",
       "    <tr>\n",
       "      <th>1</th>\n",
       "      <td>143359</td>\n",
       "      <td>- How difficult it is to add \"Precise\" as targ...</td>\n",
       "      <td>paragraph</td>\n",
       "    </tr>\n",
       "    <tr>\n",
       "      <th>2</th>\n",
       "      <td>143359</td>\n",
       "      <td>the current LTS, so I think it could be useful...</td>\n",
       "      <td>paragraph</td>\n",
       "    </tr>\n",
       "    <tr>\n",
       "      <th>3</th>\n",
       "      <td>143359</td>\n",
       "      <td>package for this release.</td>\n",
       "      <td>paragraph</td>\n",
       "    </tr>\n",
       "    <tr>\n",
       "      <th>4</th>\n",
       "      <td>143359</td>\n",
       "      <td>- As I'm curious, I'm curious to read how you ...</td>\n",
       "      <td>paragraph</td>\n",
       "    </tr>\n",
       "  </tbody>\n",
       "</table>\n",
       "</div>"
      ],
      "text/plain": [
       "       id                                               text      label\n",
       "0  143359                           Nice news. Two comments:  paragraph\n",
       "1  143359  - How difficult it is to add \"Precise\" as targ...  paragraph\n",
       "2  143359  the current LTS, so I think it could be useful...  paragraph\n",
       "3  143359                          package for this release.  paragraph\n",
       "4  143359  - As I'm curious, I'm curious to read how you ...  paragraph"
      ]
     },
     "execution_count": 10,
     "metadata": {},
     "output_type": "execute_result"
    }
   ],
   "source": [
    "dataset_df"
   ]
  },
  {
   "cell_type": "code",
   "execution_count": 11,
   "metadata": {},
   "outputs": [
    {
     "data": {
      "text/plain": [
       "Counter({143359: 5})"
      ]
     },
     "execution_count": 11,
     "metadata": {},
     "output_type": "execute_result"
    }
   ],
   "source": [
    "email_lengths"
   ]
  },
  {
   "cell_type": "code",
   "execution_count": 12,
   "metadata": {},
   "outputs": [
    {
     "data": {
      "text/plain": [
       "label\n",
       "paragraph    100.0\n",
       "Name: id, dtype: float64"
      ]
     },
     "execution_count": 12,
     "metadata": {},
     "output_type": "execute_result"
    }
   ],
   "source": [
    "labeloccurences"
   ]
  },
  {
   "cell_type": "code",
   "execution_count": null,
   "metadata": {},
   "outputs": [],
   "source": []
  }
 ],
 "metadata": {
  "interpreter": {
   "hash": "255fc6da8029bef322b6bca02b59f88e093370c5ed0c5392c887dcd3df5b3dfc"
  },
  "kernelspec": {
   "display_name": "Python 3.8.10 64-bit ('ml-classification-preprocessing-email-zone-3e72BEgC-py3.8': poetry)",
   "language": "python",
   "name": "python3"
  },
  "language_info": {
   "codemirror_mode": {
    "name": "ipython",
    "version": 3
   },
   "file_extension": ".py",
   "mimetype": "text/x-python",
   "name": "python",
   "nbconvert_exporter": "python",
   "pygments_lexer": "ipython3",
   "version": "3.8.10"
  },
  "orig_nbformat": 4
 },
 "nbformat": 4,
 "nbformat_minor": 2
}
